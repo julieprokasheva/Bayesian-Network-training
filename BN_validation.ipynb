{
 "cells": [
  {
   "cell_type": "code",
   "execution_count": 1,
   "id": "0dbe5e78-287f-42b6-a1c8-c0b103e3373d",
   "metadata": {},
   "outputs": [],
   "source": [
    "import os, sys\n",
    "from pathlib import Path\n",
    "currentdir = Path(os.getcwd())\n",
    "sys.path.insert(0, os.path.dirname(currentdir.parent))\n",
    "sys.path.insert(0, os.path.dirname(currentdir))"
   ]
  },
  {
   "cell_type": "markdown",
   "id": "73e63651-55e0-417e-a45a-f54a56b73f72",
   "metadata": {},
   "source": [
    "## Тестовое задание: разработка модуля интеллектуальной валидации данных"
   ]
  },
  {
   "cell_type": "code",
   "execution_count": 2,
   "id": "ff219271-08e6-482c-a8eb-8ef5524523b1",
   "metadata": {},
   "outputs": [],
   "source": [
    "import bamt.Networks as Nets\n",
    "import bamt.Preprocessors as pp\n",
    "\n",
    "import pandas as pd\n",
    "import numpy as np\n",
    "import matplotlib.pyplot as plt\n",
    "import random\n",
    "\n",
    "from sklearn import preprocessing\n",
    "from pgmpy.estimators import K2Score\n",
    "\n",
    "plt.style.use('seaborn-darkgrid')\n",
    "plt.rcParams['figure.figsize'] = (6, 5)\n",
    "plt.rcParams.update({\n",
    "    \"text.usetex\": True,\n",
    "    \"font.family\": \"sans-serif\",\n",
    "    \"font.sans-serif\": [\"Helvetica\"]})"
   ]
  },
  {
   "cell_type": "markdown",
   "id": "d263641b-8dc1-49d4-8b85-c9175abf44cc",
   "metadata": {},
   "source": [
    "### Извлечение данных и препроцессинг"
   ]
  },
  {
   "cell_type": "code",
   "execution_count": 3,
   "id": "54185e95-9d65-4401-b374-6ee0ef5bb613",
   "metadata": {},
   "outputs": [
    {
     "data": {
      "text/plain": [
       "Index(['Unnamed: 0', 'Treatment', 'SproutN', 'BunchN', 'GrapeW', 'WoodW',\n",
       "       'SPAD06', 'NDVI06', 'SPAD08', 'NDVI08', 'Acid', 'Potass', 'Brix', 'pH',\n",
       "       'Anthoc', 'Polyph'],\n",
       "      dtype='object')"
      ]
     },
     "execution_count": 3,
     "metadata": {},
     "output_type": "execute_result"
    }
   ],
   "source": [
    "data = pd.read_csv(r'../data/sangiovese.csv')\n",
    "data.columns"
   ]
  },
  {
   "cell_type": "code",
   "execution_count": 4,
   "id": "c9bb5966-f2db-4935-ac4e-cf2da3b28c0c",
   "metadata": {},
   "outputs": [],
   "source": [
    "data = data.loc[:, data.columns != 'Unnamed: 0']"
   ]
  },
  {
   "cell_type": "code",
   "execution_count": 5,
   "id": "4a9438d4-7380-4a39-b625-4c7e37fcafc9",
   "metadata": {},
   "outputs": [],
   "source": [
    "encoder     = preprocessing.LabelEncoder()\n",
    "discretizer = preprocessing.KBinsDiscretizer(encode='ordinal')\n",
    "\n",
    "p = pp.Preprocessor([('encoder', encoder), ('discretizer', discretizer)])\n",
    "discretized_data, est = p.apply(data)\n",
    "\n",
    "info = p.info"
   ]
  },
  {
   "cell_type": "markdown",
   "id": "265d3065-64b2-4ca0-b670-4ce9fa051046",
   "metadata": {},
   "source": [
    "### Обучение структур БС с различными гиперпараметрами\n",
    "\n",
    "Выберем следующий набор параметров для структурного обучения сетей:\n",
    "\n",
    "1. Разрешенные logit узлы и смеси гауссовских распределений, K2 скор-функция\n",
    "2. Запрещенные logit узлы и смеси гауссовских распределений, K2 скор-функция\n",
    "3. Запрещенные logit узлы и смеси гауссовских распределений, BIC скор-функция\n",
    "4. Запрещенные logit узлы и смеси гауссовских распределений, MI скор-функция\n",
    "\n",
    "Ниже инициализируем каждую БС и узлы к ним, задаем скор-функции"
   ]
  },
  {
   "cell_type": "code",
   "execution_count": 6,
   "id": "d27955e6-5215-4ad6-9576-8b698c102ae3",
   "metadata": {},
   "outputs": [
    {
     "data": {
      "application/vnd.jupyter.widget-view+json": {
       "model_id": "b664d23f4c574b89aad74d7a8b83a803",
       "version_major": 2,
       "version_minor": 0
      },
      "text/plain": [
       "  0%|          | 0/1000000 [00:00<?, ?it/s]"
      ]
     },
     "metadata": {},
     "output_type": "display_data"
    }
   ],
   "source": [
    "bn_1 = Nets.HybridBN(has_logit=True, use_mixture=True)\n",
    "bn_1.add_nodes(info)\n",
    "bn_1.add_edges(discretized_data, scoring_function=('K2',K2Score))"
   ]
  },
  {
   "cell_type": "code",
   "execution_count": 7,
   "id": "0519a38e-7383-404e-8176-1608c3590fa2",
   "metadata": {},
   "outputs": [
    {
     "data": {
      "application/vnd.jupyter.widget-view+json": {
       "model_id": "b51951aec8aa43df91b5381901914fc7",
       "version_major": 2,
       "version_minor": 0
      },
      "text/plain": [
       "  0%|          | 0/1000000 [00:00<?, ?it/s]"
      ]
     },
     "metadata": {},
     "output_type": "display_data"
    }
   ],
   "source": [
    "bn_2 = Nets.HybridBN(has_logit=False, use_mixture=False)\n",
    "bn_2.add_nodes(info)\n",
    "bn_2.add_edges(discretized_data, scoring_function=('K2',K2Score))"
   ]
  },
  {
   "cell_type": "code",
   "execution_count": 8,
   "id": "eee3ba4e-334a-4125-8ba6-6155b69fa6aa",
   "metadata": {},
   "outputs": [],
   "source": [
    "bn_3 = Nets.HybridBN(has_logit=False, use_mixture=False)\n",
    "bn_3.add_nodes(info)\n",
    "bn_3.add_edges(discretized_data, scoring_function=('BIC', ))"
   ]
  },
  {
   "cell_type": "code",
   "execution_count": 9,
   "id": "19732854-cede-45ae-ab74-240c8bb21468",
   "metadata": {},
   "outputs": [],
   "source": [
    "bn_4 = Nets.HybridBN(has_logit=False, use_mixture=False)\n",
    "bn_4.add_nodes(info)\n",
    "bn_4.add_edges(discretized_data, scoring_function=('MI',))"
   ]
  },
  {
   "cell_type": "markdown",
   "id": "cd9cdbca-e9f2-4b62-a842-faa507593082",
   "metadata": {},
   "source": [
    "Проводим параметрическое обучение сетей"
   ]
  },
  {
   "cell_type": "code",
   "execution_count": 10,
   "id": "a118c5f5-3c8b-47da-a190-950226ea982e",
   "metadata": {},
   "outputs": [],
   "source": [
    "bn_1.fit_parameters(data)"
   ]
  },
  {
   "cell_type": "code",
   "execution_count": 11,
   "id": "01139a15-3958-40c4-93b5-f147746a4b2c",
   "metadata": {},
   "outputs": [],
   "source": [
    "bn_2.fit_parameters(data)"
   ]
  },
  {
   "cell_type": "code",
   "execution_count": 12,
   "id": "2a270d3e-ede4-40ea-9ca1-7a9cd75b880b",
   "metadata": {},
   "outputs": [],
   "source": [
    "bn_3.fit_parameters(data)"
   ]
  },
  {
   "cell_type": "code",
   "execution_count": 13,
   "id": "c898cfdb-6f82-456f-bb51-eae0e90c572b",
   "metadata": {},
   "outputs": [],
   "source": [
    "bn_4.fit_parameters(data)"
   ]
  },
  {
   "cell_type": "markdown",
   "id": "beb9a7e9-a00d-4adf-afce-2c3b6c0042ec",
   "metadata": {},
   "source": [
    "Далее проводим сэмплирование для узла 'Treatment', инициализируя его случайным значением из датасета."
   ]
  },
  {
   "cell_type": "code",
   "execution_count": 14,
   "id": "96d1a43e-6ae2-4499-b906-87fdd109fa03",
   "metadata": {},
   "outputs": [],
   "source": [
    "value_treatm = random.choice(data['Treatment'])"
   ]
  },
  {
   "cell_type": "code",
   "execution_count": 15,
   "id": "3f12559c-4af6-493c-baaf-a09bad25776c",
   "metadata": {},
   "outputs": [
    {
     "name": "stderr",
     "output_type": "stream",
     "text": [
      "100%|██████████| 1000/1000 [00:20<00:00, 49.21it/s]\n",
      "100%|██████████| 1000/1000 [00:00<00:00, 2342.14it/s]\n",
      "100%|██████████| 1000/1000 [00:00<00:00, 1613.91it/s]\n",
      "100%|██████████| 1000/1000 [00:00<00:00, 2073.09it/s]\n"
     ]
    }
   ],
   "source": [
    "sample_1 = bn_1.sample(1000, evidence={'Treatment': value_treatm}, parall_count=5)\n",
    "sample_2 = bn_2.sample(1000, evidence={'Treatment': value_treatm}, parall_count=5)\n",
    "sample_3 = bn_3.sample(1000, evidence={'Treatment': value_treatm}, parall_count=5)\n",
    "sample_4 = bn_4.sample(1000, evidence={'Treatment': value_treatm}, parall_count=5)"
   ]
  },
  {
   "cell_type": "markdown",
   "id": "ae2ec024-dad3-477b-b0e8-b37cc737114a",
   "metadata": {},
   "source": [
    "Сравним сэмплированные распределение в одном из узлов с исходным распределением"
   ]
  },
  {
   "cell_type": "code",
   "execution_count": 16,
   "id": "8f35c0aa-5556-4ce4-b9af-3238b5a6d8e0",
   "metadata": {},
   "outputs": [],
   "source": [
    "validation_sample = data.loc[data['Treatment'] == value_treatm]\n",
    "node = 'GrapeW'"
   ]
  },
  {
   "cell_type": "code",
   "execution_count": 17,
   "id": "e480bd81-15f5-45ce-9be0-db832b564e53",
   "metadata": {},
   "outputs": [
    {
     "data": {
      "text/plain": [
       "<matplotlib.legend.Legend at 0x7efd970c5b10>"
      ]
     },
     "execution_count": 17,
     "metadata": {},
     "output_type": "execute_result"
    },
    {
     "data": {
      "image/png": "[encoded data removed]",
      "text/plain": [
       "<Figure size 600x500 with 1 Axes>"
      ]
     },
     "metadata": {},
     "output_type": "display_data"
    }
   ],
   "source": [
    "q_control = np.percentile(validation_sample[node].values, range(100))\n",
    "q_sample_1  = np.percentile(sample_2[node].values, range(100))\n",
    "q_sample_2  = np.percentile(sample_2[node].values, range(100))\n",
    "q_sample_3  = np.percentile(sample_3[node].values, range(100))\n",
    "q_sample_4  = np.percentile(sample_4[node].values, range(100))\n",
    "\n",
    "\n",
    "plt.scatter(q_control, q_sample_1, s=6, c='navy', label='K2, logit=true, mixture=true')\n",
    "plt.scatter(q_control, q_sample_2, s=6, c='brown', label='K2, logit=false, mixtrue=false')\n",
    "plt.scatter(q_control, q_sample_3, s=6, c='orange', label='BIC, logit=false, mixture=false')\n",
    "plt.scatter(q_control, q_sample_4, s=6, c='darkgreen', label='MI,  logit=false, mixture=false')\n",
    "\n",
    "plt.plot(q_control, q_control, c='r', label='Initial', linewidth=1)\n",
    "plt.xlabel('Initial quantiles')\n",
    "plt.ylabel('Sampled quantiles')\n",
    "plt.title(f'BN comparison for node {node}')\n",
    "\n",
    "plt.legend()"
   ]
  },
  {
   "cell_type": "markdown",
   "id": "a546c192-7c9d-4cf2-8ed1-05a22fda70d3",
   "metadata": {},
   "source": [
    "### Выводы"
   ]
  },
  {
   "cell_type": "markdown",
   "id": "482bae19-6ff9-40fa-8b6d-18ec72604120",
   "metadata": {},
   "source": [
    "Как можно видеть из квантильного биплота, параметризированные с К2 скор-функцией БС 1 и 2 моделируют распределение хуже всего.\n",
    "Притом наличие logit узлов не влияет на результат (распределения 1 и 2 БС совпадают), поскольку в наборе данных всего одна дискретная переменная.\n",
    "\n",
    "Лучший результат демонстрирует сеть с заданной MI скор-функцией."
   ]
  }
 ],
 "metadata": {
  "kernelspec": {
   "display_name": "Python 3 (ipykernel)",
   "language": "python",
   "name": "python3"
  },
  "language_info": {
   "codemirror_mode": {
    "name": "ipython",
    "version": 3
   },
   "file_extension": ".py",
   "mimetype": "text/x-python",
   "name": "python",
   "nbconvert_exporter": "python",
   "pygments_lexer": "ipython3",
   "version": "3.8.5"
  }
 },
 "nbformat": 4,
 "nbformat_minor": 5
}
