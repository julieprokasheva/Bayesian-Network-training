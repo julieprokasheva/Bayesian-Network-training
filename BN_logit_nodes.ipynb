{
 "cells": [
  {
   "cell_type": "code",
   "execution_count": 1,
   "id": "17125b32-05d8-4dca-ae56-c10fd7278b4a",
   "metadata": {},
   "outputs": [],
   "source": [
    "import os, sys\n",
    "from pathlib import Path\n",
    "currentdir = Path(os.getcwd())\n",
    "sys.path.insert(0, os.path.dirname(currentdir.parent))\n",
    "sys.path.insert(0, os.path.dirname(currentdir))"
   ]
  },
  {
   "cell_type": "markdown",
   "id": "abbb0811-89eb-43e7-9b68-f7d84c96ec5d",
   "metadata": {},
   "source": [
    "## Задание для разработки модуля обучения моделей с ограничением на свойства модели"
   ]
  },
  {
   "cell_type": "code",
   "execution_count": 2,
   "id": "c96cf2e7",
   "metadata": {},
   "outputs": [],
   "source": [
    "import bamt.Networks as Nets\n",
    "import bamt.Preprocessors as pp\n",
    "\n",
    "import pandas as pd\n",
    "import numpy as np\n",
    "import matplotlib.pyplot as plt\n",
    "\n",
    "from sklearn import preprocessing\n",
    "from sklearn.tree import DecisionTreeClassifier\n",
    "from sklearn.ensemble import RandomForestClassifier\n",
    "from sklearn.neighbors import KNeighborsClassifier\n",
    "\n",
    "from pgmpy.estimators import K2Score"
   ]
  },
  {
   "cell_type": "code",
   "execution_count": 3,
   "id": "27a4bfd5-86d9-44dc-afa9-9ebeca6ebc21",
   "metadata": {},
   "outputs": [],
   "source": [
    "plt.style.use('seaborn')\n",
    "plt.rcParams['figure.figsize'] = (5, 3.8)\n",
    "plt.rcParams.update({\n",
    "    \"text.usetex\": False,\n",
    "    \"font.family\": \"sans-serif\",\n",
    "    \"font.sans-serif\": [\"Helvetica\"]})"
   ]
  },
  {
   "cell_type": "markdown",
   "id": "a51b00e6-9e84-4c7e-880e-4cc36b12f67d",
   "metadata": {},
   "source": [
    "### Извлечение данных и препроцессинг"
   ]
  },
  {
   "cell_type": "code",
   "execution_count": 4,
   "id": "cbc6a726",
   "metadata": {},
   "outputs": [
    {
     "data": {
      "text/plain": [
       "Index(['Unnamed: 0', 'Region', 'Zone', 'Type', 'Year', 'Season', 'Month',\n",
       "       'Day', 'Hour', 'Latitude', 'Longitude', 'Altitude', 't2m', 'ws', 'wd',\n",
       "       'tp', 'blh', 'ssr', 'CVD60', 'no2', 'o3', 'so2', 'co', 'pm10', 'pm2.5'],\n",
       "      dtype='object')"
      ]
     },
     "execution_count": 4,
     "metadata": {},
     "output_type": "execute_result"
    }
   ],
   "source": [
    "data = pd.read_csv(r'../data/mehra-complete.csv')\n",
    "data.columns"
   ]
  },
  {
   "cell_type": "code",
   "execution_count": 5,
   "id": "63578924-b399-47cf-951c-02a28c2b276d",
   "metadata": {},
   "outputs": [],
   "source": [
    "cols = ['Region', 'Type', 'Year', 'Season', 'Month', 'Zone',\n",
    "        'Altitude', 't2m', 'ws', 'wd',\n",
    "        'tp', 'blh', 'ssr', 'CVD60', 'no2', 'o3', 'so2', 'co', 'pm10', 'pm2.5']\n",
    "\n",
    "data = data[cols].dropna()"
   ]
  },
  {
   "cell_type": "code",
   "execution_count": 6,
   "id": "0f7c8769",
   "metadata": {},
   "outputs": [],
   "source": [
    "encoder = preprocessing.LabelEncoder()\n",
    "discretizer = preprocessing.KBinsDiscretizer(encode='ordinal')\n",
    "\n",
    "p = pp.Preprocessor([('encoder', encoder), ('discretizer', discretizer)])\n",
    "discretized_data, est = p.apply(data)\n",
    "\n",
    "info = p.info"
   ]
  },
  {
   "cell_type": "markdown",
   "id": "abd2f429-75b5-47d1-8298-32f8afedcc68",
   "metadata": {},
   "source": [
    "### Обучение структуры и параметров БС"
   ]
  },
  {
   "cell_type": "markdown",
   "id": "9a292879-4dcc-45af-9786-e0d7688cc575",
   "metadata": {},
   "source": [
    "Инициализация БС с разрешенными logit узлами"
   ]
  },
  {
   "cell_type": "code",
   "execution_count": 7,
   "id": "62e79579-d684-452e-9b80-d1853dc8ad4e",
   "metadata": {},
   "outputs": [],
   "source": [
    "bn = Nets.HybridBN(has_logit=True, use_mixture=True)"
   ]
  },
  {
   "cell_type": "markdown",
   "id": "26dee1e6-14bc-4015-877f-d311679724f6",
   "metadata": {},
   "source": [
    "Первая стадия обучения структуры - инициализация узлов"
   ]
  },
  {
   "cell_type": "code",
   "execution_count": 8,
   "id": "5c100e90-8a6c-4cfd-bc53-dd7c5c5cdf79",
   "metadata": {},
   "outputs": [],
   "source": [
    "bn.add_nodes(info)"
   ]
  },
  {
   "cell_type": "markdown",
   "id": "4b07cff2-b9b8-4a24-83dc-3a88307808b7",
   "metadata": {},
   "source": [
    "Вторая стадия обучения структуры - изменение узлов в соответствии с заданными параметрами и наследственностью. "
   ]
  },
  {
   "cell_type": "markdown",
   "id": "6c8de87c-8039-4980-9d71-720845d4cb25",
   "metadata": {},
   "source": [
    "Выбираются скор-функция и родительские узлы"
   ]
  },
  {
   "cell_type": "code",
   "execution_count": 9,
   "id": "acccc471-05c3-4329-a923-03f9cb5ba191",
   "metadata": {},
   "outputs": [],
   "source": [
    "params = {'init_nodes': ['Type', 'Year', 'Month', 'Altitude', 'Zone'],\n",
    "          'init_edges': [('Month', 't2m')]} # since mean month temperature depends on month and not vice versa\n",
    "\n",
    "bn.add_edges(discretized_data, scoring_function=('K2',K2Score),  params=params)"
   ]
  },
  {
   "cell_type": "code",
   "execution_count": 10,
   "id": "d255cf26",
   "metadata": {},
   "outputs": [
    {
     "data": {
      "text/html": [
       "<div>\n",
       "<style scoped>\n",
       "    .dataframe tbody tr th:only-of-type {\n",
       "        vertical-align: middle;\n",
       "    }\n",
       "\n",
       "    .dataframe tbody tr th {\n",
       "        vertical-align: top;\n",
       "    }\n",
       "\n",
       "    .dataframe thead th {\n",
       "        text-align: right;\n",
       "    }\n",
       "</style>\n",
       "<table border=\"1\" class=\"dataframe\">\n",
       "  <thead>\n",
       "    <tr style=\"text-align: right;\">\n",
       "      <th></th>\n",
       "      <th>name</th>\n",
       "      <th>node_type</th>\n",
       "      <th>data_type</th>\n",
       "      <th>parents</th>\n",
       "      <th>parents_types</th>\n",
       "    </tr>\n",
       "  </thead>\n",
       "  <tbody>\n",
       "    <tr>\n",
       "      <th>0</th>\n",
       "      <td>Type</td>\n",
       "      <td>Discrete</td>\n",
       "      <td>disc</td>\n",
       "      <td>[]</td>\n",
       "      <td>[]</td>\n",
       "    </tr>\n",
       "    <tr>\n",
       "      <th>1</th>\n",
       "      <td>Year</td>\n",
       "      <td>Discrete</td>\n",
       "      <td>disc_num</td>\n",
       "      <td>[]</td>\n",
       "      <td>[]</td>\n",
       "    </tr>\n",
       "    <tr>\n",
       "      <th>2</th>\n",
       "      <td>Month</td>\n",
       "      <td>Discrete</td>\n",
       "      <td>disc_num</td>\n",
       "      <td>[]</td>\n",
       "      <td>[]</td>\n",
       "    </tr>\n",
       "    <tr>\n",
       "      <th>3</th>\n",
       "      <td>Zone</td>\n",
       "      <td>Discrete</td>\n",
       "      <td>disc</td>\n",
       "      <td>[]</td>\n",
       "      <td>[]</td>\n",
       "    </tr>\n",
       "    <tr>\n",
       "      <th>4</th>\n",
       "      <td>Altitude</td>\n",
       "      <td>MixtureGaussian</td>\n",
       "      <td>cont</td>\n",
       "      <td>[]</td>\n",
       "      <td>[]</td>\n",
       "    </tr>\n",
       "    <tr>\n",
       "      <th>5</th>\n",
       "      <td>wd</td>\n",
       "      <td>MixtureGaussian</td>\n",
       "      <td>cont</td>\n",
       "      <td>[]</td>\n",
       "      <td>[]</td>\n",
       "    </tr>\n",
       "    <tr>\n",
       "      <th>6</th>\n",
       "      <td>t2m</td>\n",
       "      <td>ConditionalMixtureGaussian</td>\n",
       "      <td>cont</td>\n",
       "      <td>[Month]</td>\n",
       "      <td>[disc_num]</td>\n",
       "    </tr>\n",
       "    <tr>\n",
       "      <th>7</th>\n",
       "      <td>pm10</td>\n",
       "      <td>ConditionalMixtureGaussian</td>\n",
       "      <td>cont</td>\n",
       "      <td>[Year, Zone]</td>\n",
       "      <td>[disc_num, disc]</td>\n",
       "    </tr>\n",
       "    <tr>\n",
       "      <th>8</th>\n",
       "      <td>ssr</td>\n",
       "      <td>MixtureGaussian</td>\n",
       "      <td>cont</td>\n",
       "      <td>[t2m]</td>\n",
       "      <td>[cont]</td>\n",
       "    </tr>\n",
       "    <tr>\n",
       "      <th>9</th>\n",
       "      <td>CVD60</td>\n",
       "      <td>MixtureGaussian</td>\n",
       "      <td>cont</td>\n",
       "      <td>[t2m]</td>\n",
       "      <td>[cont]</td>\n",
       "    </tr>\n",
       "    <tr>\n",
       "      <th>10</th>\n",
       "      <td>ws</td>\n",
       "      <td>MixtureGaussian</td>\n",
       "      <td>cont</td>\n",
       "      <td>[t2m]</td>\n",
       "      <td>[cont]</td>\n",
       "    </tr>\n",
       "    <tr>\n",
       "      <th>11</th>\n",
       "      <td>co</td>\n",
       "      <td>ConditionalMixtureGaussian</td>\n",
       "      <td>cont</td>\n",
       "      <td>[pm10, Year, Zone]</td>\n",
       "      <td>[cont, disc_num, disc]</td>\n",
       "    </tr>\n",
       "    <tr>\n",
       "      <th>12</th>\n",
       "      <td>tp</td>\n",
       "      <td>ConditionalMixtureGaussian</td>\n",
       "      <td>cont</td>\n",
       "      <td>[ssr, Month]</td>\n",
       "      <td>[cont, disc_num]</td>\n",
       "    </tr>\n",
       "    <tr>\n",
       "      <th>13</th>\n",
       "      <td>Region</td>\n",
       "      <td>Logit (LogisticRegression)</td>\n",
       "      <td>disc</td>\n",
       "      <td>[CVD60]</td>\n",
       "      <td>[cont]</td>\n",
       "    </tr>\n",
       "    <tr>\n",
       "      <th>14</th>\n",
       "      <td>Season</td>\n",
       "      <td>Logit (LogisticRegression)</td>\n",
       "      <td>disc</td>\n",
       "      <td>[CVD60]</td>\n",
       "      <td>[cont]</td>\n",
       "    </tr>\n",
       "    <tr>\n",
       "      <th>15</th>\n",
       "      <td>blh</td>\n",
       "      <td>MixtureGaussian</td>\n",
       "      <td>cont</td>\n",
       "      <td>[ws, ssr]</td>\n",
       "      <td>[cont, cont]</td>\n",
       "    </tr>\n",
       "    <tr>\n",
       "      <th>16</th>\n",
       "      <td>so2</td>\n",
       "      <td>ConditionalMixtureGaussian</td>\n",
       "      <td>cont</td>\n",
       "      <td>[co, Type, Zone]</td>\n",
       "      <td>[cont, disc, disc]</td>\n",
       "    </tr>\n",
       "    <tr>\n",
       "      <th>17</th>\n",
       "      <td>pm2.5</td>\n",
       "      <td>ConditionalMixtureGaussian</td>\n",
       "      <td>cont</td>\n",
       "      <td>[Region, Year]</td>\n",
       "      <td>[disc, disc_num]</td>\n",
       "    </tr>\n",
       "    <tr>\n",
       "      <th>18</th>\n",
       "      <td>o3</td>\n",
       "      <td>ConditionalMixtureGaussian</td>\n",
       "      <td>cont</td>\n",
       "      <td>[so2, co, Type, Zone]</td>\n",
       "      <td>[cont, cont, disc, disc]</td>\n",
       "    </tr>\n",
       "    <tr>\n",
       "      <th>19</th>\n",
       "      <td>no2</td>\n",
       "      <td>MixtureGaussian</td>\n",
       "      <td>cont</td>\n",
       "      <td>[so2, co]</td>\n",
       "      <td>[cont, cont]</td>\n",
       "    </tr>\n",
       "  </tbody>\n",
       "</table>\n",
       "</div>"
      ],
      "text/plain": [
       "        name                   node_type data_type                parents  \\\n",
       "0       Type                    Discrete      disc                     []   \n",
       "1       Year                    Discrete  disc_num                     []   \n",
       "2      Month                    Discrete  disc_num                     []   \n",
       "3       Zone                    Discrete      disc                     []   \n",
       "4   Altitude             MixtureGaussian      cont                     []   \n",
       "5         wd             MixtureGaussian      cont                     []   \n",
       "6        t2m  ConditionalMixtureGaussian      cont                [Month]   \n",
       "7       pm10  ConditionalMixtureGaussian      cont           [Year, Zone]   \n",
       "8        ssr             MixtureGaussian      cont                  [t2m]   \n",
       "9      CVD60             MixtureGaussian      cont                  [t2m]   \n",
       "10        ws             MixtureGaussian      cont                  [t2m]   \n",
       "11        co  ConditionalMixtureGaussian      cont     [pm10, Year, Zone]   \n",
       "12        tp  ConditionalMixtureGaussian      cont           [ssr, Month]   \n",
       "13    Region  Logit (LogisticRegression)      disc                [CVD60]   \n",
       "14    Season  Logit (LogisticRegression)      disc                [CVD60]   \n",
       "15       blh             MixtureGaussian      cont              [ws, ssr]   \n",
       "16       so2  ConditionalMixtureGaussian      cont       [co, Type, Zone]   \n",
       "17     pm2.5  ConditionalMixtureGaussian      cont         [Region, Year]   \n",
       "18        o3  ConditionalMixtureGaussian      cont  [so2, co, Type, Zone]   \n",
       "19       no2             MixtureGaussian      cont              [so2, co]   \n",
       "\n",
       "               parents_types  \n",
       "0                         []  \n",
       "1                         []  \n",
       "2                         []  \n",
       "3                         []  \n",
       "4                         []  \n",
       "5                         []  \n",
       "6                 [disc_num]  \n",
       "7           [disc_num, disc]  \n",
       "8                     [cont]  \n",
       "9                     [cont]  \n",
       "10                    [cont]  \n",
       "11    [cont, disc_num, disc]  \n",
       "12          [cont, disc_num]  \n",
       "13                    [cont]  \n",
       "14                    [cont]  \n",
       "15              [cont, cont]  \n",
       "16        [cont, disc, disc]  \n",
       "17          [disc, disc_num]  \n",
       "18  [cont, cont, disc, disc]  \n",
       "19              [cont, cont]  "
      ]
     },
     "execution_count": 10,
     "metadata": {},
     "output_type": "execute_result"
    }
   ],
   "source": [
    "bn.get_info()"
   ]
  },
  {
   "cell_type": "markdown",
   "id": "48ad0d96-667a-46ab-890f-ab9e8647c3a1",
   "metadata": {},
   "source": [
    "### Обучение с разными классификаторами logit узлов\n",
    "\n",
    "Установим разные типы классификаторов для logit узлов, будем использовать доступные RandomForest, DecisionTree, KNeighbour."
   ]
  },
  {
   "cell_type": "markdown",
   "id": "e43cb2f9-9217-44f5-8705-9d145c8efc66",
   "metadata": {},
   "source": [
    "Инициализируем и обучим первую модель с классификатором RandomForestClassifier для всех узлов типа logit"
   ]
  },
  {
   "cell_type": "code",
   "execution_count": 11,
   "id": "f7864d87-c6ec-459b-b613-635676dd6665",
   "metadata": {},
   "outputs": [
    {
     "data": {
      "text/html": [
       "<div>\n",
       "<style scoped>\n",
       "    .dataframe tbody tr th:only-of-type {\n",
       "        vertical-align: middle;\n",
       "    }\n",
       "\n",
       "    .dataframe tbody tr th {\n",
       "        vertical-align: top;\n",
       "    }\n",
       "\n",
       "    .dataframe thead th {\n",
       "        text-align: right;\n",
       "    }\n",
       "</style>\n",
       "<table border=\"1\" class=\"dataframe\">\n",
       "  <thead>\n",
       "    <tr style=\"text-align: right;\">\n",
       "      <th></th>\n",
       "      <th>name</th>\n",
       "      <th>node_type</th>\n",
       "      <th>data_type</th>\n",
       "      <th>parents</th>\n",
       "      <th>parents_types</th>\n",
       "    </tr>\n",
       "  </thead>\n",
       "  <tbody>\n",
       "    <tr>\n",
       "      <th>0</th>\n",
       "      <td>Type</td>\n",
       "      <td>Discrete</td>\n",
       "      <td>disc</td>\n",
       "      <td>[]</td>\n",
       "      <td>[]</td>\n",
       "    </tr>\n",
       "    <tr>\n",
       "      <th>1</th>\n",
       "      <td>Year</td>\n",
       "      <td>Discrete</td>\n",
       "      <td>disc_num</td>\n",
       "      <td>[]</td>\n",
       "      <td>[]</td>\n",
       "    </tr>\n",
       "    <tr>\n",
       "      <th>2</th>\n",
       "      <td>Month</td>\n",
       "      <td>Discrete</td>\n",
       "      <td>disc_num</td>\n",
       "      <td>[]</td>\n",
       "      <td>[]</td>\n",
       "    </tr>\n",
       "    <tr>\n",
       "      <th>3</th>\n",
       "      <td>Zone</td>\n",
       "      <td>Discrete</td>\n",
       "      <td>disc</td>\n",
       "      <td>[]</td>\n",
       "      <td>[]</td>\n",
       "    </tr>\n",
       "    <tr>\n",
       "      <th>4</th>\n",
       "      <td>Altitude</td>\n",
       "      <td>MixtureGaussian</td>\n",
       "      <td>cont</td>\n",
       "      <td>[]</td>\n",
       "      <td>[]</td>\n",
       "    </tr>\n",
       "    <tr>\n",
       "      <th>5</th>\n",
       "      <td>wd</td>\n",
       "      <td>MixtureGaussian</td>\n",
       "      <td>cont</td>\n",
       "      <td>[]</td>\n",
       "      <td>[]</td>\n",
       "    </tr>\n",
       "    <tr>\n",
       "      <th>6</th>\n",
       "      <td>t2m</td>\n",
       "      <td>ConditionalMixtureGaussian</td>\n",
       "      <td>cont</td>\n",
       "      <td>[Month]</td>\n",
       "      <td>[disc_num]</td>\n",
       "    </tr>\n",
       "    <tr>\n",
       "      <th>7</th>\n",
       "      <td>pm10</td>\n",
       "      <td>ConditionalMixtureGaussian</td>\n",
       "      <td>cont</td>\n",
       "      <td>[Year, Zone]</td>\n",
       "      <td>[disc_num, disc]</td>\n",
       "    </tr>\n",
       "    <tr>\n",
       "      <th>8</th>\n",
       "      <td>ssr</td>\n",
       "      <td>MixtureGaussian</td>\n",
       "      <td>cont</td>\n",
       "      <td>[t2m]</td>\n",
       "      <td>[cont]</td>\n",
       "    </tr>\n",
       "    <tr>\n",
       "      <th>9</th>\n",
       "      <td>CVD60</td>\n",
       "      <td>MixtureGaussian</td>\n",
       "      <td>cont</td>\n",
       "      <td>[t2m]</td>\n",
       "      <td>[cont]</td>\n",
       "    </tr>\n",
       "    <tr>\n",
       "      <th>10</th>\n",
       "      <td>ws</td>\n",
       "      <td>MixtureGaussian</td>\n",
       "      <td>cont</td>\n",
       "      <td>[t2m]</td>\n",
       "      <td>[cont]</td>\n",
       "    </tr>\n",
       "    <tr>\n",
       "      <th>11</th>\n",
       "      <td>co</td>\n",
       "      <td>ConditionalMixtureGaussian</td>\n",
       "      <td>cont</td>\n",
       "      <td>[pm10, Year, Zone]</td>\n",
       "      <td>[cont, disc_num, disc]</td>\n",
       "    </tr>\n",
       "    <tr>\n",
       "      <th>12</th>\n",
       "      <td>tp</td>\n",
       "      <td>ConditionalMixtureGaussian</td>\n",
       "      <td>cont</td>\n",
       "      <td>[ssr, Month]</td>\n",
       "      <td>[cont, disc_num]</td>\n",
       "    </tr>\n",
       "    <tr>\n",
       "      <th>13</th>\n",
       "      <td>Region</td>\n",
       "      <td>Logit (LogisticRegression)</td>\n",
       "      <td>disc</td>\n",
       "      <td>[CVD60]</td>\n",
       "      <td>[cont]</td>\n",
       "    </tr>\n",
       "    <tr>\n",
       "      <th>14</th>\n",
       "      <td>Season</td>\n",
       "      <td>Logit (LogisticRegression)</td>\n",
       "      <td>disc</td>\n",
       "      <td>[CVD60]</td>\n",
       "      <td>[cont]</td>\n",
       "    </tr>\n",
       "    <tr>\n",
       "      <th>15</th>\n",
       "      <td>blh</td>\n",
       "      <td>MixtureGaussian</td>\n",
       "      <td>cont</td>\n",
       "      <td>[ws, ssr]</td>\n",
       "      <td>[cont, cont]</td>\n",
       "    </tr>\n",
       "    <tr>\n",
       "      <th>16</th>\n",
       "      <td>so2</td>\n",
       "      <td>ConditionalMixtureGaussian</td>\n",
       "      <td>cont</td>\n",
       "      <td>[co, Type, Zone]</td>\n",
       "      <td>[cont, disc, disc]</td>\n",
       "    </tr>\n",
       "    <tr>\n",
       "      <th>17</th>\n",
       "      <td>pm2.5</td>\n",
       "      <td>ConditionalMixtureGaussian</td>\n",
       "      <td>cont</td>\n",
       "      <td>[Region, Year]</td>\n",
       "      <td>[disc, disc_num]</td>\n",
       "    </tr>\n",
       "    <tr>\n",
       "      <th>18</th>\n",
       "      <td>o3</td>\n",
       "      <td>ConditionalMixtureGaussian</td>\n",
       "      <td>cont</td>\n",
       "      <td>[so2, co, Type, Zone]</td>\n",
       "      <td>[cont, cont, disc, disc]</td>\n",
       "    </tr>\n",
       "    <tr>\n",
       "      <th>19</th>\n",
       "      <td>no2</td>\n",
       "      <td>MixtureGaussian</td>\n",
       "      <td>cont</td>\n",
       "      <td>[so2, co]</td>\n",
       "      <td>[cont, cont]</td>\n",
       "    </tr>\n",
       "  </tbody>\n",
       "</table>\n",
       "</div>"
      ],
      "text/plain": [
       "        name                   node_type data_type                parents  \\\n",
       "0       Type                    Discrete      disc                     []   \n",
       "1       Year                    Discrete  disc_num                     []   \n",
       "2      Month                    Discrete  disc_num                     []   \n",
       "3       Zone                    Discrete      disc                     []   \n",
       "4   Altitude             MixtureGaussian      cont                     []   \n",
       "5         wd             MixtureGaussian      cont                     []   \n",
       "6        t2m  ConditionalMixtureGaussian      cont                [Month]   \n",
       "7       pm10  ConditionalMixtureGaussian      cont           [Year, Zone]   \n",
       "8        ssr             MixtureGaussian      cont                  [t2m]   \n",
       "9      CVD60             MixtureGaussian      cont                  [t2m]   \n",
       "10        ws             MixtureGaussian      cont                  [t2m]   \n",
       "11        co  ConditionalMixtureGaussian      cont     [pm10, Year, Zone]   \n",
       "12        tp  ConditionalMixtureGaussian      cont           [ssr, Month]   \n",
       "13    Region  Logit (LogisticRegression)      disc                [CVD60]   \n",
       "14    Season  Logit (LogisticRegression)      disc                [CVD60]   \n",
       "15       blh             MixtureGaussian      cont              [ws, ssr]   \n",
       "16       so2  ConditionalMixtureGaussian      cont       [co, Type, Zone]   \n",
       "17     pm2.5  ConditionalMixtureGaussian      cont         [Region, Year]   \n",
       "18        o3  ConditionalMixtureGaussian      cont  [so2, co, Type, Zone]   \n",
       "19       no2             MixtureGaussian      cont              [so2, co]   \n",
       "\n",
       "               parents_types  \n",
       "0                         []  \n",
       "1                         []  \n",
       "2                         []  \n",
       "3                         []  \n",
       "4                         []  \n",
       "5                         []  \n",
       "6                 [disc_num]  \n",
       "7           [disc_num, disc]  \n",
       "8                     [cont]  \n",
       "9                     [cont]  \n",
       "10                    [cont]  \n",
       "11    [cont, disc_num, disc]  \n",
       "12          [cont, disc_num]  \n",
       "13                    [cont]  \n",
       "14                    [cont]  \n",
       "15              [cont, cont]  \n",
       "16        [cont, disc, disc]  \n",
       "17          [disc, disc_num]  \n",
       "18  [cont, cont, disc, disc]  \n",
       "19              [cont, cont]  "
      ]
     },
     "execution_count": 11,
     "metadata": {},
     "output_type": "execute_result"
    }
   ],
   "source": [
    "bn_1 = Nets.HybridBN(has_logit=True, use_mixture=True)\n",
    "bn_1.add_nodes(info)\n",
    "bn_1.add_edges(discretized_data, scoring_function=('K2',K2Score), params=params)\n",
    "bn_1.get_info()"
   ]
  },
  {
   "cell_type": "code",
   "execution_count": 12,
   "id": "6e428a80-3594-449f-ae66-c65bf0c8f1dc",
   "metadata": {},
   "outputs": [],
   "source": [
    "bn_1.set_classifiers(classifiers={'Season': RandomForestClassifier(),\n",
    "                                  'Region': RandomForestClassifier()})"
   ]
  },
  {
   "cell_type": "markdown",
   "id": "3540ea84-15cd-4031-baa0-59dd794d002c",
   "metadata": {},
   "source": [
    "Инициализируем и обучим вторую модель с классификатором DecisionTreeClassifier для всех узлов типа logit"
   ]
  },
  {
   "cell_type": "code",
   "execution_count": 13,
   "id": "7dc9d92d-90b6-45a3-93a1-4e000d28a68b",
   "metadata": {},
   "outputs": [
    {
     "data": {
      "text/html": [
       "<div>\n",
       "<style scoped>\n",
       "    .dataframe tbody tr th:only-of-type {\n",
       "        vertical-align: middle;\n",
       "    }\n",
       "\n",
       "    .dataframe tbody tr th {\n",
       "        vertical-align: top;\n",
       "    }\n",
       "\n",
       "    .dataframe thead th {\n",
       "        text-align: right;\n",
       "    }\n",
       "</style>\n",
       "<table border=\"1\" class=\"dataframe\">\n",
       "  <thead>\n",
       "    <tr style=\"text-align: right;\">\n",
       "      <th></th>\n",
       "      <th>name</th>\n",
       "      <th>node_type</th>\n",
       "      <th>data_type</th>\n",
       "      <th>parents</th>\n",
       "      <th>parents_types</th>\n",
       "    </tr>\n",
       "  </thead>\n",
       "  <tbody>\n",
       "    <tr>\n",
       "      <th>0</th>\n",
       "      <td>Type</td>\n",
       "      <td>Discrete</td>\n",
       "      <td>disc</td>\n",
       "      <td>[]</td>\n",
       "      <td>[]</td>\n",
       "    </tr>\n",
       "    <tr>\n",
       "      <th>1</th>\n",
       "      <td>Year</td>\n",
       "      <td>Discrete</td>\n",
       "      <td>disc_num</td>\n",
       "      <td>[]</td>\n",
       "      <td>[]</td>\n",
       "    </tr>\n",
       "    <tr>\n",
       "      <th>2</th>\n",
       "      <td>Month</td>\n",
       "      <td>Discrete</td>\n",
       "      <td>disc_num</td>\n",
       "      <td>[]</td>\n",
       "      <td>[]</td>\n",
       "    </tr>\n",
       "    <tr>\n",
       "      <th>3</th>\n",
       "      <td>Zone</td>\n",
       "      <td>Discrete</td>\n",
       "      <td>disc</td>\n",
       "      <td>[]</td>\n",
       "      <td>[]</td>\n",
       "    </tr>\n",
       "    <tr>\n",
       "      <th>4</th>\n",
       "      <td>Altitude</td>\n",
       "      <td>MixtureGaussian</td>\n",
       "      <td>cont</td>\n",
       "      <td>[]</td>\n",
       "      <td>[]</td>\n",
       "    </tr>\n",
       "    <tr>\n",
       "      <th>5</th>\n",
       "      <td>wd</td>\n",
       "      <td>MixtureGaussian</td>\n",
       "      <td>cont</td>\n",
       "      <td>[]</td>\n",
       "      <td>[]</td>\n",
       "    </tr>\n",
       "    <tr>\n",
       "      <th>6</th>\n",
       "      <td>t2m</td>\n",
       "      <td>ConditionalMixtureGaussian</td>\n",
       "      <td>cont</td>\n",
       "      <td>[Month]</td>\n",
       "      <td>[disc_num]</td>\n",
       "    </tr>\n",
       "    <tr>\n",
       "      <th>7</th>\n",
       "      <td>pm10</td>\n",
       "      <td>ConditionalMixtureGaussian</td>\n",
       "      <td>cont</td>\n",
       "      <td>[Year, Zone]</td>\n",
       "      <td>[disc_num, disc]</td>\n",
       "    </tr>\n",
       "    <tr>\n",
       "      <th>8</th>\n",
       "      <td>ssr</td>\n",
       "      <td>MixtureGaussian</td>\n",
       "      <td>cont</td>\n",
       "      <td>[t2m]</td>\n",
       "      <td>[cont]</td>\n",
       "    </tr>\n",
       "    <tr>\n",
       "      <th>9</th>\n",
       "      <td>CVD60</td>\n",
       "      <td>MixtureGaussian</td>\n",
       "      <td>cont</td>\n",
       "      <td>[t2m]</td>\n",
       "      <td>[cont]</td>\n",
       "    </tr>\n",
       "    <tr>\n",
       "      <th>10</th>\n",
       "      <td>ws</td>\n",
       "      <td>MixtureGaussian</td>\n",
       "      <td>cont</td>\n",
       "      <td>[t2m]</td>\n",
       "      <td>[cont]</td>\n",
       "    </tr>\n",
       "    <tr>\n",
       "      <th>11</th>\n",
       "      <td>co</td>\n",
       "      <td>ConditionalMixtureGaussian</td>\n",
       "      <td>cont</td>\n",
       "      <td>[pm10, Year, Zone]</td>\n",
       "      <td>[cont, disc_num, disc]</td>\n",
       "    </tr>\n",
       "    <tr>\n",
       "      <th>12</th>\n",
       "      <td>tp</td>\n",
       "      <td>ConditionalMixtureGaussian</td>\n",
       "      <td>cont</td>\n",
       "      <td>[ssr, Month]</td>\n",
       "      <td>[cont, disc_num]</td>\n",
       "    </tr>\n",
       "    <tr>\n",
       "      <th>13</th>\n",
       "      <td>Region</td>\n",
       "      <td>Logit (DecisionTreeClassifier)</td>\n",
       "      <td>disc</td>\n",
       "      <td>[CVD60]</td>\n",
       "      <td>[cont]</td>\n",
       "    </tr>\n",
       "    <tr>\n",
       "      <th>14</th>\n",
       "      <td>Season</td>\n",
       "      <td>Logit (DecisionTreeClassifier)</td>\n",
       "      <td>disc</td>\n",
       "      <td>[CVD60]</td>\n",
       "      <td>[cont]</td>\n",
       "    </tr>\n",
       "    <tr>\n",
       "      <th>15</th>\n",
       "      <td>blh</td>\n",
       "      <td>MixtureGaussian</td>\n",
       "      <td>cont</td>\n",
       "      <td>[ws, ssr]</td>\n",
       "      <td>[cont, cont]</td>\n",
       "    </tr>\n",
       "    <tr>\n",
       "      <th>16</th>\n",
       "      <td>so2</td>\n",
       "      <td>ConditionalMixtureGaussian</td>\n",
       "      <td>cont</td>\n",
       "      <td>[co, Type, Zone]</td>\n",
       "      <td>[cont, disc, disc]</td>\n",
       "    </tr>\n",
       "    <tr>\n",
       "      <th>17</th>\n",
       "      <td>pm2.5</td>\n",
       "      <td>ConditionalMixtureGaussian</td>\n",
       "      <td>cont</td>\n",
       "      <td>[Region, Year]</td>\n",
       "      <td>[disc, disc_num]</td>\n",
       "    </tr>\n",
       "    <tr>\n",
       "      <th>18</th>\n",
       "      <td>o3</td>\n",
       "      <td>ConditionalMixtureGaussian</td>\n",
       "      <td>cont</td>\n",
       "      <td>[so2, co, Type, Zone]</td>\n",
       "      <td>[cont, cont, disc, disc]</td>\n",
       "    </tr>\n",
       "    <tr>\n",
       "      <th>19</th>\n",
       "      <td>no2</td>\n",
       "      <td>MixtureGaussian</td>\n",
       "      <td>cont</td>\n",
       "      <td>[so2, co]</td>\n",
       "      <td>[cont, cont]</td>\n",
       "    </tr>\n",
       "  </tbody>\n",
       "</table>\n",
       "</div>"
      ],
      "text/plain": [
       "        name                       node_type data_type                parents  \\\n",
       "0       Type                        Discrete      disc                     []   \n",
       "1       Year                        Discrete  disc_num                     []   \n",
       "2      Month                        Discrete  disc_num                     []   \n",
       "3       Zone                        Discrete      disc                     []   \n",
       "4   Altitude                 MixtureGaussian      cont                     []   \n",
       "5         wd                 MixtureGaussian      cont                     []   \n",
       "6        t2m      ConditionalMixtureGaussian      cont                [Month]   \n",
       "7       pm10      ConditionalMixtureGaussian      cont           [Year, Zone]   \n",
       "8        ssr                 MixtureGaussian      cont                  [t2m]   \n",
       "9      CVD60                 MixtureGaussian      cont                  [t2m]   \n",
       "10        ws                 MixtureGaussian      cont                  [t2m]   \n",
       "11        co      ConditionalMixtureGaussian      cont     [pm10, Year, Zone]   \n",
       "12        tp      ConditionalMixtureGaussian      cont           [ssr, Month]   \n",
       "13    Region  Logit (DecisionTreeClassifier)      disc                [CVD60]   \n",
       "14    Season  Logit (DecisionTreeClassifier)      disc                [CVD60]   \n",
       "15       blh                 MixtureGaussian      cont              [ws, ssr]   \n",
       "16       so2      ConditionalMixtureGaussian      cont       [co, Type, Zone]   \n",
       "17     pm2.5      ConditionalMixtureGaussian      cont         [Region, Year]   \n",
       "18        o3      ConditionalMixtureGaussian      cont  [so2, co, Type, Zone]   \n",
       "19       no2                 MixtureGaussian      cont              [so2, co]   \n",
       "\n",
       "               parents_types  \n",
       "0                         []  \n",
       "1                         []  \n",
       "2                         []  \n",
       "3                         []  \n",
       "4                         []  \n",
       "5                         []  \n",
       "6                 [disc_num]  \n",
       "7           [disc_num, disc]  \n",
       "8                     [cont]  \n",
       "9                     [cont]  \n",
       "10                    [cont]  \n",
       "11    [cont, disc_num, disc]  \n",
       "12          [cont, disc_num]  \n",
       "13                    [cont]  \n",
       "14                    [cont]  \n",
       "15              [cont, cont]  \n",
       "16        [cont, disc, disc]  \n",
       "17          [disc, disc_num]  \n",
       "18  [cont, cont, disc, disc]  \n",
       "19              [cont, cont]  "
      ]
     },
     "execution_count": 13,
     "metadata": {},
     "output_type": "execute_result"
    }
   ],
   "source": [
    "bn_2 = Nets.HybridBN(has_logit=True, use_mixture=True)\n",
    "bn_2.add_nodes(info)\n",
    "bn_2.add_edges(discretized_data, scoring_function=('K2',K2Score), params=params)\n",
    "bn_2.set_classifiers(classifiers={'Season': DecisionTreeClassifier(),\n",
    "                                 'Region': DecisionTreeClassifier()})\n",
    "bn_2.get_info()"
   ]
  },
  {
   "cell_type": "markdown",
   "id": "a83c9dde-58c1-4ddb-a6c4-ac89970a5ad9",
   "metadata": {},
   "source": [
    "Инициализируем и обучим третью модель с классификатором KNeighborsClassifier для всех узлов типа logit"
   ]
  },
  {
   "cell_type": "code",
   "execution_count": 14,
   "id": "aba26286-6dc3-47e3-9e02-46a2942744df",
   "metadata": {},
   "outputs": [],
   "source": [
    "bn_3 = Nets.HybridBN(has_logit=True, use_mixture=True)\n",
    "bn_3.add_nodes(info)\n",
    "bn_3.add_edges(discretized_data, scoring_function=('K2',K2Score), params=params)\n",
    "bn_3.set_classifiers(classifiers={'Season':  KNeighborsClassifier(),\n",
    "                                 'Region':  KNeighborsClassifier()})"
   ]
  },
  {
   "cell_type": "markdown",
   "id": "53bd913c-9dc7-4f47-9d3d-3d16064c2e99",
   "metadata": {},
   "source": [
    "### Параметрическое обучение БС и сэмплирование"
   ]
  },
  {
   "cell_type": "code",
   "execution_count": 15,
   "id": "05dd556e-bba4-42a6-a089-3870ead06013",
   "metadata": {},
   "outputs": [
    {
     "name": "stdout",
     "output_type": "stream",
     "text": [
      "2022-10-08 18:08:39,089 | WARNING  | Nodes.py-fit_parameters-0666 | Region::Pickle failed. BAMT will use Joblib. | invalid load key, '@'.\n"
     ]
    }
   ],
   "source": [
    "bn_1.fit_parameters(data)"
   ]
  },
  {
   "cell_type": "code",
   "execution_count": 16,
   "id": "66d02393-d047-4714-8d05-0e058403bd4c",
   "metadata": {},
   "outputs": [
    {
     "name": "stdout",
     "output_type": "stream",
     "text": [
      "2022-10-08 18:12:37,635 | WARNING  | Nodes.py-fit_parameters-0666 | Region::Pickle failed. BAMT will use Joblib. | 'tuple' object is not callable\n",
      "2022-10-08 18:12:37,679 | WARNING  | Nodes.py-fit_parameters-0666 | Season::Pickle failed. BAMT will use Joblib. | 'tuple' object is not callable\n"
     ]
    }
   ],
   "source": [
    "bn_2.fit_parameters(data)"
   ]
  },
  {
   "cell_type": "code",
   "execution_count": 17,
   "id": "301d32ef-5b44-40a5-bc2a-0f80847c5105",
   "metadata": {},
   "outputs": [],
   "source": [
    "bn_3.fit_parameters(data)"
   ]
  },
  {
   "cell_type": "code",
   "execution_count": 18,
   "id": "4674ad64-85cc-4624-9df7-cf8982b0cdd9",
   "metadata": {},
   "outputs": [
    {
     "name": "stderr",
     "output_type": "stream",
     "text": [
      "100%|██████████| 1000/1000 [03:16<00:00,  5.08it/s]\n"
     ]
    }
   ],
   "source": [
    "synth_data_RF = bn_1.sample(1000, parall_count=5)"
   ]
  },
  {
   "cell_type": "code",
   "execution_count": 19,
   "id": "12a0d722-f6d3-4311-8f12-7512c227f324",
   "metadata": {},
   "outputs": [
    {
     "name": "stderr",
     "output_type": "stream",
     "text": [
      "100%|██████████| 1000/1000 [00:23<00:00, 41.76it/s]\n"
     ]
    }
   ],
   "source": [
    "synth_data_DT = bn_2.sample(1000, parall_count=5)"
   ]
  },
  {
   "cell_type": "code",
   "execution_count": 20,
   "id": "e93a6bab-a19c-44e9-abdf-3938482fa2bc",
   "metadata": {},
   "outputs": [
    {
     "name": "stderr",
     "output_type": "stream",
     "text": [
      "100%|██████████| 1000/1000 [00:28<00:00, 35.08it/s]\n"
     ]
    }
   ],
   "source": [
    "synth_data_KN = bn_3.sample(1000, parall_count=5)"
   ]
  },
  {
   "cell_type": "markdown",
   "id": "fd378722-62f6-4fed-9438-a98959558252",
   "metadata": {},
   "source": [
    "### Выводы о полученных структурах"
   ]
  },
  {
   "cell_type": "markdown",
   "id": "e6709505-a64a-4e32-9abf-23b4afd3291f",
   "metadata": {},
   "source": [
    "Ниже приводится сравнение исходных данных и распределений, смоделированных каждой из структур для узлов типа logit.\n",
    "\n",
    "Видно, что в модель с классификаторами Decision Tree (DT) дает для узлов Region моделирует распределение, значительно отличающиеся от исходного. Метод ближайшего соседа (KN) демонстрирует лучший результат для узла Region"
   ]
  },
  {
   "cell_type": "code",
   "execution_count": 21,
   "id": "ee1d3705-4495-4226-9012-0486c2b68c86",
   "metadata": {},
   "outputs": [
    {
     "data": {
      "image/png": "[encoded data removed]",
      "text/plain": [
       "<Figure size 1500x350 with 4 Axes>"
      ]
     },
     "metadata": {},
     "output_type": "display_data"
    }
   ],
   "source": [
    "fig, ax = plt.subplots(1, 4, figsize=(15, 3.5), sharey=True)\n",
    "ax[0].set_title(f'Region True')\n",
    "ax[1].set_title(f'Region Sampled RF')\n",
    "ax[2].set_title(f\"Region Sampled DT\")\n",
    "ax[3].set_title(f\"Region Sampled KN\")\n",
    "\n",
    "ax[0].barh(data['Region'].value_counts().index, data['Region'].value_counts().values)\n",
    "ax[1].barh(synth_data_RF['Region'].value_counts().index, synth_data_RF['Region'].value_counts().values)\n",
    "ax[2].barh(synth_data_DT['Region'].value_counts().index, synth_data_DT['Region'].value_counts().values)\n",
    "ax[3].barh(synth_data_KN['Region'].value_counts().index, synth_data_KN['Region'].value_counts().values)\n",
    "plt.tight_layout()"
   ]
  },
  {
   "cell_type": "markdown",
   "id": "9d09f239-34e6-464d-97de-556c3e20f9bd",
   "metadata": {},
   "source": [
    "Для узлов Season хуже всего распределение моделируется структурой с классификатороми RF. KN дает наиболее близкий результат."
   ]
  },
  {
   "cell_type": "code",
   "execution_count": 22,
   "id": "dd94c08c-fa73-41c4-a9cd-7e461bffad8b",
   "metadata": {},
   "outputs": [
    {
     "data": {
      "text/plain": [
       "Text(0.5, 1.0, 'Season Sampled KN')"
      ]
     },
     "execution_count": 22,
     "metadata": {},
     "output_type": "execute_result"
    },
    {
     "data": {
      "image/png": "[encoded data removed]",
      "text/plain": [
       "<Figure size 1500x300 with 4 Axes>"
      ]
     },
     "metadata": {},
     "output_type": "display_data"
    }
   ],
   "source": [
    "fig, ax = plt.subplots(1, 4, figsize=(15, 3), sharey=True)\n",
    "\n",
    "ax[0].barh(data['Season'].value_counts().index, data['Season'].value_counts().values)\n",
    "ax[1].barh(synth_data_RF['Season'].value_counts().index, synth_data_RF['Season'].value_counts().values)\n",
    "ax[2].barh(synth_data_DT['Season'].value_counts().index, synth_data_DT['Season'].value_counts().values)\n",
    "ax[3].barh(synth_data_KN['Season'].value_counts().index, synth_data_KN['Season'].value_counts().values)\n",
    "\n",
    "ax[0].set_title(f'Season True')\n",
    "ax[1].set_title(f'Season Sampled RF')\n",
    "ax[2].set_title(f\"Season Sampled DT\")\n",
    "ax[3].set_title(f\"Season Sampled KN\")"
   ]
  }
 ],
 "metadata": {
  "kernelspec": {
   "display_name": "Python 3 (ipykernel)",
   "language": "python",
   "name": "python3"
  },
  "language_info": {
   "codemirror_mode": {
    "name": "ipython",
    "version": 3
   },
   "file_extension": ".py",
   "mimetype": "text/x-python",
   "name": "python",
   "nbconvert_exporter": "python",
   "pygments_lexer": "ipython3",
   "version": "3.8.5"
  }
 },
 "nbformat": 4,
 "nbformat_minor": 5
}
